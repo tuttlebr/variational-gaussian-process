{
 "cells": [
  {
   "cell_type": "code",
   "execution_count": 1,
   "id": "8589af4f-e960-4308-8436-4c037641d443",
   "metadata": {},
   "outputs": [],
   "source": [
    "import pandas as pd\n",
    "from numpy.random import standard_normal"
   ]
  },
  {
   "cell_type": "code",
   "execution_count": 2,
   "id": "ada4b590-cdc3-4be1-9c8c-9d89b0d922ba",
   "metadata": {},
   "outputs": [],
   "source": [
    "def generate_sample_data(prefix=\"qa_\", n_embeddings=100, date_start=\"1/1/2018\", date_end=\"12/31/2021\", mu=0, sigma=1):\n",
    "    sample_pool = list()\n",
    "    ds = pd.date_range(start=date_start, end=date_end)\n",
    "    n_days = len(ds)\n",
    "    \n",
    "    for embedding in range(n_embeddings):\n",
    "        prefix_embedding = \"{}{}\".format(prefix, embedding)\n",
    "        embedding = [prefix_embedding] * n_days\n",
    "        y = standard_normal(n_days)\n",
    "        if embedding == n_embeddings - 1:\n",
    "            y = y * -1\n",
    "        df = pd.DataFrame.from_dict({\"ds\":ds,\n",
    "                                     \"embedding\":embedding,\n",
    "                                     \"y\":y\n",
    "                                    })\n",
    "        sample_pool.append(df)\n",
    "        \n",
    "    return pd.concat(sample_pool)"
   ]
  },
  {
   "cell_type": "code",
   "execution_count": 3,
   "id": "cb286871-3319-4db0-96ac-79b171ce4793",
   "metadata": {},
   "outputs": [],
   "source": [
    "sample_dfs = generate_sample_data()"
   ]
  },
  {
   "cell_type": "code",
   "execution_count": 4,
   "id": "be3f7ef2-4d51-45b4-a2fd-717a877ae72c",
   "metadata": {},
   "outputs": [],
   "source": [
    "sample_dfs.to_csv(\"/Users/brandon/Documents/variational-gaussian-process/src/unittest/sample_data.csv\", index=False)"
   ]
  },
  {
   "cell_type": "code",
   "execution_count": 5,
   "id": "c6a82145-1445-4d42-95db-eaf3835551ad",
   "metadata": {},
   "outputs": [
    {
     "data": {
      "text/html": [
       "<div>\n",
       "<style scoped>\n",
       "    .dataframe tbody tr th:only-of-type {\n",
       "        vertical-align: middle;\n",
       "    }\n",
       "\n",
       "    .dataframe tbody tr th {\n",
       "        vertical-align: top;\n",
       "    }\n",
       "\n",
       "    .dataframe thead th {\n",
       "        text-align: right;\n",
       "    }\n",
       "</style>\n",
       "<table border=\"1\" class=\"dataframe\">\n",
       "  <thead>\n",
       "    <tr style=\"text-align: right;\">\n",
       "      <th></th>\n",
       "      <th>ds</th>\n",
       "      <th>embedding</th>\n",
       "      <th>y</th>\n",
       "    </tr>\n",
       "  </thead>\n",
       "  <tbody>\n",
       "    <tr>\n",
       "      <th>0</th>\n",
       "      <td>2018-01-01</td>\n",
       "      <td>qa_0</td>\n",
       "      <td>-0.498501</td>\n",
       "    </tr>\n",
       "    <tr>\n",
       "      <th>1</th>\n",
       "      <td>2018-01-02</td>\n",
       "      <td>qa_0</td>\n",
       "      <td>1.330454</td>\n",
       "    </tr>\n",
       "    <tr>\n",
       "      <th>2</th>\n",
       "      <td>2018-01-03</td>\n",
       "      <td>qa_0</td>\n",
       "      <td>-1.778729</td>\n",
       "    </tr>\n",
       "    <tr>\n",
       "      <th>3</th>\n",
       "      <td>2018-01-04</td>\n",
       "      <td>qa_0</td>\n",
       "      <td>-0.294013</td>\n",
       "    </tr>\n",
       "    <tr>\n",
       "      <th>4</th>\n",
       "      <td>2018-01-05</td>\n",
       "      <td>qa_0</td>\n",
       "      <td>0.735436</td>\n",
       "    </tr>\n",
       "    <tr>\n",
       "      <th>...</th>\n",
       "      <td>...</td>\n",
       "      <td>...</td>\n",
       "      <td>...</td>\n",
       "    </tr>\n",
       "    <tr>\n",
       "      <th>1456</th>\n",
       "      <td>2021-12-27</td>\n",
       "      <td>qa_99</td>\n",
       "      <td>1.108910</td>\n",
       "    </tr>\n",
       "    <tr>\n",
       "      <th>1457</th>\n",
       "      <td>2021-12-28</td>\n",
       "      <td>qa_99</td>\n",
       "      <td>-0.897775</td>\n",
       "    </tr>\n",
       "    <tr>\n",
       "      <th>1458</th>\n",
       "      <td>2021-12-29</td>\n",
       "      <td>qa_99</td>\n",
       "      <td>-1.329769</td>\n",
       "    </tr>\n",
       "    <tr>\n",
       "      <th>1459</th>\n",
       "      <td>2021-12-30</td>\n",
       "      <td>qa_99</td>\n",
       "      <td>1.293523</td>\n",
       "    </tr>\n",
       "    <tr>\n",
       "      <th>1460</th>\n",
       "      <td>2021-12-31</td>\n",
       "      <td>qa_99</td>\n",
       "      <td>0.660362</td>\n",
       "    </tr>\n",
       "  </tbody>\n",
       "</table>\n",
       "<p>146100 rows × 3 columns</p>\n",
       "</div>"
      ],
      "text/plain": [
       "             ds embedding         y\n",
       "0    2018-01-01      qa_0 -0.498501\n",
       "1    2018-01-02      qa_0  1.330454\n",
       "2    2018-01-03      qa_0 -1.778729\n",
       "3    2018-01-04      qa_0 -0.294013\n",
       "4    2018-01-05      qa_0  0.735436\n",
       "...         ...       ...       ...\n",
       "1456 2021-12-27     qa_99  1.108910\n",
       "1457 2021-12-28     qa_99 -0.897775\n",
       "1458 2021-12-29     qa_99 -1.329769\n",
       "1459 2021-12-30     qa_99  1.293523\n",
       "1460 2021-12-31     qa_99  0.660362\n",
       "\n",
       "[146100 rows x 3 columns]"
      ]
     },
     "execution_count": 5,
     "metadata": {},
     "output_type": "execute_result"
    }
   ],
   "source": [
    "sample_dfs"
   ]
  },
  {
   "cell_type": "code",
   "execution_count": null,
   "id": "36f19007-3633-45e1-9531-97c5cfeec1b1",
   "metadata": {},
   "outputs": [],
   "source": []
  }
 ],
 "metadata": {
  "kernelspec": {
   "display_name": "Python 3 (ipykernel)",
   "language": "python",
   "name": "python3"
  },
  "language_info": {
   "codemirror_mode": {
    "name": "ipython",
    "version": 3
   },
   "file_extension": ".py",
   "mimetype": "text/x-python",
   "name": "python",
   "nbconvert_exporter": "python",
   "pygments_lexer": "ipython3",
   "version": "3.9.5"
  }
 },
 "nbformat": 4,
 "nbformat_minor": 5
}
